{
 "cells": [
  {
   "cell_type": "code",
   "execution_count": null,
   "metadata": {
    "collapsed": true
   },
   "outputs": [],
   "source": [
    "#https://github.com/Kulbear/deep-learning-coursera/blob/master/Convolutional%20Neural%20Networks/Keras%20-%20Tutorial%20-%20Happy%20House%20v1.ipynb\n",
    "# Data Augmentation Keras ImageDataGenerator https://keras.io/preprocessing/image/\n",
    "# Regularisation: Dropout, L2\n",
    "# Optmisation: Batch normalisation, optmiser choice\n",
    "# Parameter tuning: Architecture\n",
    "#https://helpx.adobe.com/hk_en/photoshop/using/image-size-resolution.html#resampling\n",
    "#Each pixel in image is 1 byte (8 bit) sized in each colour channel"
   ]
  },
  {
   "cell_type": "code",
   "execution_count": 18,
   "metadata": {},
   "outputs": [],
   "source": [
    "import numpy as np\n",
    "import keras\n",
    "from keras import layers\n",
    "from keras.layers import Input,Dense,Activation,ZeroPadding2D, BatchNormalization,Flatten,Conv2D\n",
    "from keras.layers import AveragePooling2D,MaxPooling2D,Dropout,GlobalMaxPooling2D,GlobalAveragePooling2D\n",
    "from keras.models import Model, Sequential\n",
    "from keras.preprocessing import image\n",
    "from keras.utils import layer_utils, np_utils\n",
    "from keras.utils.data_utils import get_file\n",
    "from keras.applications.imagenet_utils import preprocess_input\n",
    "import pydot\n",
    "from IPython.display import SVG\n",
    "from keras.utils.vis_utils import model_to_dot\n",
    "from keras.utils import plot_model\n",
    "#from kt_utils import * \n",
    "import keras.backend as K\n",
    "K.set_image_data_format('channels_last')\n",
    "import matplotlib.pyplot as plt\n",
    "from matplotlib.pyplot import imshow\n",
    "%matplotlib inline\n",
    "import pandas as pd\n",
    "import PIL\n",
    "from sklearn import preprocessing\n",
    "from sklearn.model_selection import train_test_split"
   ]
  },
  {
   "cell_type": "code",
   "execution_count": 19,
   "metadata": {
    "collapsed": true
   },
   "outputs": [],
   "source": [
    "def read_data(path):\n",
    "    train=pd.read_csv(path+'/train.csv')\n",
    "    test=pd.read_csv(path+'/test.csv')\n",
    "    return train,test\n",
    "\n",
    "train,test=read_data('./Datasets')\n",
    "\n",
    "def generate_input(path,image_ids):\n",
    "    for id in image_ids:\n",
    "        img=image.load_img(path+id,target_size=(64,64))\n",
    "        x=image.img_to_array(img)\n",
    "        x=np.expand_dims(x,axis=0)\n",
    "        x=preprocess_input(x)\n",
    "        yield x\n",
    "    \n",
    "X=np.concatenate([feat for feat in generate_input('./Datasets/Train/',train['ID'])])\n",
    "#X_test=np.concatenate([feat for feat in generate_input('./Datasets/Test/',test['ID'])])\n",
    "\n",
    "lb = preprocessing.LabelBinarizer()\n",
    "y=lb.fit_transform(train['Class'])\n",
    "#np_utils.to_categorical(train['Class'], 3)"
   ]
  },
  {
   "cell_type": "code",
   "execution_count": 20,
   "metadata": {
    "collapsed": true
   },
   "outputs": [],
   "source": [
    "X_train, X_test, y_train, y_test = train_test_split(X, y, test_size=0.33, random_state=42)"
   ]
  },
  {
   "cell_type": "code",
   "execution_count": 24,
   "metadata": {},
   "outputs": [],
   "source": [
    "model=Sequential()\n",
    "model.add(ZeroPadding2D((3,3),input_shape=X_train.shape[1:]))\n",
    "model.add(Conv2D(32,(3,3),padding='same'))\n",
    "model.add(Activation('relu'))\n",
    "model.add(Conv2D(32,(3,3)))\n",
    "model.add(Activation('relu'))\n",
    "model.add(MaxPooling2D(pool_size=(2,2)))\n",
    "model.add(Dropout(0.25))\n",
    "\n",
    "model.add(Conv2D(64, (3, 3), padding='same'))\n",
    "model.add(Activation('relu'))\n",
    "model.add(Conv2D(64, (3, 3)))\n",
    "model.add(Activation('relu'))\n",
    "model.add(MaxPooling2D(pool_size=(2, 2)))\n",
    "model.add(Dropout(0.25))\n",
    "\n",
    "model.add(Flatten())\n",
    "model.add(Activation('relu'))\n",
    "model.add(Dense(3))\n",
    "model.add(Activation('softmax'))"
   ]
  },
  {
   "cell_type": "code",
   "execution_count": null,
   "metadata": {},
   "outputs": [
    {
     "name": "stdout",
     "output_type": "stream",
     "text": [
      "Train on 13337 samples, validate on 6569 samples\n",
      "Epoch 1/20\n",
      "13337/13337 [==============================] - 624s 47ms/step - loss: 3.5048 - acc: 0.4397 - val_loss: 1.4841 - val_acc: 0.4608\n",
      "Epoch 2/20\n",
      "13337/13337 [==============================] - 625s 47ms/step - loss: 2.3224 - acc: 0.4715 - val_loss: 1.1515 - val_acc: 0.4978\n",
      "Epoch 3/20\n",
      "13337/13337 [==============================] - 625s 47ms/step - loss: 1.7611 - acc: 0.4943 - val_loss: 1.0301 - val_acc: 0.5258\n",
      "Epoch 4/20\n",
      "13337/13337 [==============================] - 624s 47ms/step - loss: 1.4467 - acc: 0.5053 - val_loss: 0.9631 - val_acc: 0.5427\n",
      "Epoch 5/20\n",
      "13337/13337 [==============================] - 626s 47ms/step - loss: 1.2342 - acc: 0.5315 - val_loss: 0.9226 - val_acc: 0.5668\n",
      "Epoch 6/20\n",
      "13337/13337 [==============================] - 626s 47ms/step - loss: 1.0876 - acc: 0.5526 - val_loss: 0.9199 - val_acc: 0.5604\n",
      "Epoch 7/20\n",
      "13337/13337 [==============================] - 542s 41ms/step - loss: 1.0073 - acc: 0.5672 - val_loss: 0.8991 - val_acc: 0.5826\n",
      "Epoch 8/20\n",
      "13337/13337 [==============================] - 488s 37ms/step - loss: 0.9507 - acc: 0.5767 - val_loss: 0.8909 - val_acc: 0.5952\n",
      "Epoch 9/20\n",
      "13337/13337 [==============================] - 461s 35ms/step - loss: 0.9125 - acc: 0.5856 - val_loss: 0.8742 - val_acc: 0.6142\n",
      "Epoch 10/20\n",
      "13337/13337 [==============================] - 465s 35ms/step - loss: 0.8931 - acc: 0.5961 - val_loss: 0.8577 - val_acc: 0.6255\n",
      "Epoch 11/20\n",
      "13337/13337 [==============================] - 462s 35ms/step - loss: 0.8666 - acc: 0.6152 - val_loss: 0.8514 - val_acc: 0.6330\n",
      "Epoch 12/20\n",
      "10304/13337 [======================>.......] - ETA: 1:38 - loss: 0.8534 - acc: 0.6135"
     ]
    }
   ],
   "source": [
    "opt=keras.optimizers.rmsprop(lr=0.00001,decay=1e-6)\n",
    "model.compile(loss='categorical_crossentropy',optimizer=opt,metrics=['accuracy'])\n",
    "model.fit(X_train,y_train,batch_size=64,epochs=20,validation_data=(X_test,y_test),shuffle=True)"
   ]
  },
  {
   "cell_type": "code",
   "execution_count": 17,
   "metadata": {},
   "outputs": [
    {
     "name": "stdout",
     "output_type": "stream",
     "text": [
      "6569/6569 [==============================] - 21s 3ms/step\n",
      "Test loss: 7.356074042544551\n",
      "Test accuracy: 0.5436139443200515\n"
     ]
    }
   ],
   "source": [
    "scores = model.evaluate(X_test, y_test, verbose=1)\n",
    "print('Test loss:', scores[0])\n",
    "print('Test accuracy:', scores[1])"
   ]
  },
  {
   "cell_type": "code",
   "execution_count": null,
   "metadata": {},
   "outputs": [],
   "source": []
  },
  {
   "cell_type": "code",
   "execution_count": null,
   "metadata": {
    "collapsed": true
   },
   "outputs": [],
   "source": []
  }
 ],
 "metadata": {
  "kernelspec": {
   "display_name": "Python 3",
   "language": "python",
   "name": "python3"
  },
  "language_info": {
   "codemirror_mode": {
    "name": "ipython",
    "version": 3
   },
   "file_extension": ".py",
   "mimetype": "text/x-python",
   "name": "python",
   "nbconvert_exporter": "python",
   "pygments_lexer": "ipython3",
   "version": "3.6.3"
  }
 },
 "nbformat": 4,
 "nbformat_minor": 2
}
